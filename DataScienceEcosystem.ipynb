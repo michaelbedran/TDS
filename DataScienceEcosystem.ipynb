{
 "cells": [
  {
   "cell_type": "markdown",
   "id": "ef789e63-df1e-4934-8319-9af364162e59",
   "metadata": {},
   "source": [
    "# Data Science Tools and Ecosystem"
   ]
  },
  {
   "cell_type": "markdown",
   "id": "ce181e0f-91a8-4d0b-80d5-86683527ff72",
   "metadata": {},
   "source": [
    "In this notebook, Data Science Tools and Ecosystem are summarized."
   ]
  },
  {
   "cell_type": "markdown",
   "id": "3f6f3566-4b98-46a8-9157-57a78d1c005c",
   "metadata": {},
   "source": [
    "**Objectives:**\n",
    "* List popular languages for Data Science\n",
    "* List popular libraries for Data Science\n",
    "* List popular Open Source tools for Data Science\n",
    "* Write code to multiply and add integers\n",
    "* Write code to convert 200 minutes to hours"
   ]
  },
  {
   "cell_type": "markdown",
   "id": "b386d3bc-b9fb-4fe3-a764-d980053e4b58",
   "metadata": {},
   "source": [
    "Some of the popular languages that Data Scientists use are:\n",
    "1. R\n",
    "2. Python\n",
    "3. SQL"
   ]
  },
  {
   "cell_type": "markdown",
   "id": "5a27ba5e-b4e5-496b-9bdd-2d9694ba9fad",
   "metadata": {},
   "source": [
    "Some of the commonly used libraries used by Data Scientists include:\n",
    "1. Pandas\n",
    "2. NumPy\n",
    "3. Matplotlib"
   ]
  },
  {
   "cell_type": "markdown",
   "id": "6e609e41-581c-45be-ba69-ca1a2c31ae62",
   "metadata": {},
   "source": [
    "|Data Science Tools | \n",
    "| ------ |\n",
    "|mongoDB|\n",
    "|Jupyter|\n",
    "|GitLab|"
   ]
  },
  {
   "cell_type": "markdown",
   "id": "36bb679e-ccd9-491a-a553-931cbd4f3bd1",
   "metadata": {},
   "source": [
    "### Below are a few examples of evaluating arithmetic expressions in Python."
   ]
  },
  {
   "cell_type": "code",
   "execution_count": 1,
   "id": "d5aa6365-8ce6-4c0e-971b-dedc65d31e46",
   "metadata": {
    "tags": []
   },
   "outputs": [
    {
     "data": {
      "text/plain": [
       "17"
      ]
     },
     "execution_count": 1,
     "metadata": {},
     "output_type": "execute_result"
    }
   ],
   "source": [
    "# This a simple arithmetic expression to mutiply then add integers.\n",
    "(3*4)+5"
   ]
  },
  {
   "cell_type": "code",
   "execution_count": 24,
   "id": "6228d7e7-5b73-47ea-96db-868a8a7cccef",
   "metadata": {
    "tags": []
   },
   "outputs": [
    {
     "name": "stdout",
     "output_type": "stream",
     "text": [
      "3.3333333333333335 hrs\n"
     ]
    }
   ],
   "source": [
    "# This will convert 200 minutes to hours by diving by 60.\n",
    "a = (200/60)\n",
    "b = \"hrs\"\n",
    "print(str(a) + \" \" + b)"
   ]
  },
  {
   "cell_type": "markdown",
   "id": "79bb6a3d-5006-4136-a97d-ad9dff128a11",
   "metadata": {},
   "source": [
    "## Author\n",
    "Michael Bedran"
   ]
  }
 ],
 "metadata": {
  "kernelspec": {
   "display_name": "Python",
   "language": "python",
   "name": "conda-env-python-py"
  },
  "language_info": {
   "codemirror_mode": {
    "name": "ipython",
    "version": 3
   },
   "file_extension": ".py",
   "mimetype": "text/x-python",
   "name": "python",
   "nbconvert_exporter": "python",
   "pygments_lexer": "ipython3",
   "version": "3.7.12"
  }
 },
 "nbformat": 4,
 "nbformat_minor": 5
}
